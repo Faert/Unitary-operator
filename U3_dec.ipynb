{
 "cells": [
  {
   "cell_type": "code",
   "execution_count": 1,
   "metadata": {},
   "outputs": [
    {
     "name": "stdout",
     "output_type": "stream",
     "text": [
      "[-2.604, -3.135, -2.493]\n",
      "   ┌───────────────────────────┐\n",
      "q: ┤ U(-2.6044,-3.1347,-2.493) ├\n",
      "   └───────────────────────────┘\n",
      "[[ 0.26538177+0.j         -0.76833414-0.58243898j]\n",
      " [ 0.96412082+0.00659961j  0.21038267+0.16176098j]]\n"
     ]
    }
   ],
   "source": [
    "from qiskit import QuantumCircuit, transpile\n",
    "import numpy as np\n",
    "import qiskit.quantum_info as qi\n",
    "from scipy.optimize import minimize\n",
    "import random\n",
    "\n",
    "def sample_floats(low, high, k = 1):\n",
    "    result = []\n",
    "    seen = set()\n",
    "    for i in range(k):\n",
    "        x = random.uniform(low, high)\n",
    "        while x in seen:\n",
    "            x = random.uniform(low, high)\n",
    "        seen.add(x)\n",
    "        result.append(x)\n",
    "    return result\n",
    "\n",
    "\n",
    "qc_x = QuantumCircuit(1)\n",
    "U_param = sample_floats(-np.pi, np.pi, 3)\n",
    "print(list(np.around(np.array(U_param),3)))\n",
    "qc_x.u(U_param[0], U_param[1], U_param[2], 0)\n",
    "#qc_x = transpile(qc_x, basis_gates=['rx', 'rz', 'p', 'x'])\n",
    "print(qc_x)\n",
    "op = qi.Operator(qc_x)\n",
    "array = op.data\n",
    "print(array)"
   ]
  },
  {
   "cell_type": "code",
   "execution_count": 3,
   "metadata": {},
   "outputs": [],
   "source": [
    "def x_param(param, out = False):\n",
    "    qc_param = QuantumCircuit(1)\n",
    "    qc_param.rx(param[0], 0)\n",
    "    qc_param.rz(param[1], 0)\n",
    "    qc_param.rx(param[2], 0)\n",
    "    qc_param.rz(param[3], 0)\n",
    "    qc_param.rx(param[4], 0)\n",
    "    qc_param.rz(param[5], 0)\n",
    "    \n",
    "    qc_param.p(param[6], 0)\n",
    "    qc_param.x(0)\n",
    "    qc_param.p(param[6], 0)\n",
    "    qc_param.x(0)\n",
    "    \n",
    "    op_param = qi.Operator(qc_param)\n",
    "    array_param = op_param.data\n",
    "    if(out):\n",
    "        print(qc_param)\n",
    "        print(array_param)\n",
    "    return array_param\n",
    "\n",
    "def loss(param):\n",
    "    norm_ = np.linalg.norm(np.array(array) - np.array(x_param(param)), ord = 'fro')\n",
    "    return norm_"
   ]
  },
  {
   "cell_type": "code",
   "execution_count": 4,
   "metadata": {},
   "outputs": [
    {
     "name": "stdout",
     "output_type": "stream",
     "text": [
      "Optimization terminated successfully.\n",
      "         Current function value: 0.000000\n",
      "         Iterations: 609\n",
      "         Function evaluations: 968\n"
     ]
    }
   ],
   "source": [
    "bounds = [[-np.pi, np.pi], [-np.pi, np.pi], [-np.pi, np.pi], [-np.pi, np.pi], [-np.pi, np.pi], [-np.pi, np.pi], [-np.pi, np.pi]]\n",
    "param0 = [0, 0, 0, 0, 0, 0, 0]\n",
    "res = minimize(loss, param0, method='Nelder-Mead',#'powell'\n",
    "               options={'xatol': 1e-8, 'disp': True}, bounds=bounds)# "
   ]
  },
  {
   "cell_type": "code",
   "execution_count": 5,
   "metadata": {},
   "outputs": [
    {
     "name": "stdout",
     "output_type": "stream",
     "text": [
      "[0.799, 0.192, 0.739, -0.61, 1.351, 2.672, 0.328]\n",
      "   ┌─────────────┐┌─────────────┐┌─────────────┐┌──────────────┐┌───────────┐»\n",
      "q: ┤ Rx(0.79892) ├┤ Rz(0.19195) ├┤ Rx(0.73903) ├┤ Rz(-0.60978) ├┤ Rx(1.351) ├»\n",
      "   └─────────────┘└─────────────┘└─────────────┘└──────────────┘└───────────┘»\n",
      "«   ┌───────────┐┌────────────┐┌───┐┌────────────┐┌───┐\n",
      "«q: ┤ Rz(2.672) ├┤ P(0.32774) ├┤ X ├┤ P(0.32774) ├┤ X ├\n",
      "«   └───────────┘└────────────┘└───┘└────────────┘└───┘\n",
      "[[ 0.26538177+9.11174414e-10j -0.76833414-5.82438979e-01j]\n",
      " [ 0.96412082+6.59960792e-03j  0.21038267+1.61760982e-01j]]\n"
     ]
    },
    {
     "data": {
      "text/plain": [
       "2.8234566506819784e-09"
      ]
     },
     "execution_count": 5,
     "metadata": {},
     "output_type": "execute_result"
    }
   ],
   "source": [
    "print(list(np.around(np.array(res.x),3)))\n",
    "x_param(res.x, True)\n",
    "loss(res.x)"
   ]
  }
 ],
 "metadata": {
  "kernelspec": {
   "display_name": "Python 3",
   "language": "python",
   "name": "python3"
  },
  "language_info": {
   "codemirror_mode": {
    "name": "ipython",
    "version": 3
   },
   "file_extension": ".py",
   "mimetype": "text/x-python",
   "name": "python",
   "nbconvert_exporter": "python",
   "pygments_lexer": "ipython3",
   "version": "3.11.5"
  }
 },
 "nbformat": 4,
 "nbformat_minor": 2
}
